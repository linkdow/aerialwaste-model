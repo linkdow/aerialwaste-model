{
 "cells": [
  {
   "cell_type": "markdown",
   "metadata": {},
   "source": [
    "## Goal\n",
    "The goal of this notebook is to produce classifiction and  the Class Activation Maps (CAMs) of an image."
   ]
  },
  {
   "cell_type": "markdown",
   "metadata": {},
   "source": [
    "## Import Libraries"
   ]
  },
  {
   "cell_type": "code",
   "execution_count": 1,
   "metadata": {},
   "outputs": [],
   "source": [
    "# Standard libraries\n",
    "import os\n",
    "import glob\n",
    "# Local libraries\n",
    "from utils.image_processor import ImageProcessor\n",
    "\n",
    "import matplotlib.pyplot as plt"
   ]
  },
  {
   "cell_type": "markdown",
   "metadata": {},
   "source": [
    "## Categories"
   ]
  },
  {
   "cell_type": "code",
   "execution_count": 2,
   "metadata": {},
   "outputs": [],
   "source": [
    "CATS = [\"suspicius_site\"]"
   ]
  },
  {
   "cell_type": "markdown",
   "metadata": {},
   "source": [
    "# Weights path and architecture"
   ]
  },
  {
   "cell_type": "code",
   "execution_count": 3,
   "metadata": {},
   "outputs": [],
   "source": [
    "STATE_DICT_PATH = \"weights/checkpoint.pth\"\n",
    "model = 'architecture.resnet50_fpn'"
   ]
  },
  {
   "cell_type": "markdown",
   "metadata": {},
   "source": [
    "# Create image processor"
   ]
  },
  {
   "cell_type": "code",
   "execution_count": 4,
   "metadata": {},
   "outputs": [],
   "source": [
    "ip = ImageProcessor(CATS, STATE_DICT_PATH, model=model)"
   ]
  },
  {
   "cell_type": "markdown",
   "metadata": {},
   "source": [
    "## CAMs"
   ]
  },
  {
   "cell_type": "code",
   "execution_count": 6,
   "metadata": {
    "scrolled": false
   },
   "outputs": [
    {
     "name": "stdout",
     "output_type": "stream",
     "text": [
      "[0.16369] {}\n"
     ]
    }
   ],
   "source": [
    "img_path = \"test_img/test_image_google1.png\"\n",
    "img_path_custom = r\"H:\\Datasets\\ortho_piscines\\ortho2021_500px\\tuiles\\93\\648300_6872250_648375_6872325.jpg\"\n",
    "iw = ip.execute_cams_pred(img_path_custom)\n",
    "print(iw.classification_scores, iw.predicted_categories)\n",
    "figure = iw.return_global_cams()\n",
    "figure.savefig(\"H:/test.jpg\")"
   ]
  },
  {
   "attachments": {},
   "cell_type": "markdown",
   "metadata": {},
   "source": [
    "# Boucler sur un dataset"
   ]
  },
  {
   "cell_type": "code",
   "execution_count": 7,
   "metadata": {},
   "outputs": [
    {
     "name": "stdout",
     "output_type": "stream",
     "text": [
      "C'est parti pour : 177300 images.\n"
     ]
    }
   ],
   "source": [
    "import glob\n",
    "i = 0\n",
    "img_path_custom = r\"H:\\Datasets\\ortho_piscines\\ortho2021_500px\\tuiles\\95\\*.jpg\" # boucle sur le département\n",
    "paths = glob.glob(img_path_custom)\n",
    "decharges93 = []\n",
    "print(\"C'est parti pour : \"+str(len(paths))+\" images.\")\n",
    "for path in paths:\n",
    "    iw = ip.execute_cams_pred(path)\n",
    "    score = iw.classification_scores\n",
    "    if score > 0.70:\n",
    "        decharges93.append([path,score])\n",
    "        figure = iw.return_global_cams()\n",
    "        # print(iw.classification_scores, iw.predicted_categories)\n",
    "        # iw.show_global_cams()\n",
    "        figure.savefig(\"H:/predictions/decharges_95/pred_\"+os.path.basename(path))\n",
    "    i += 1\n",
    "    if i % 10000 == 0:\n",
    "        print(i)\n",
    "        # if i >= 2:\n",
    "        #     break\n",
    "\n",
    "with open('H:/predictions/décharges_95.txt', 'w') as f:\n",
    "    for line in decharges93:\n",
    "        monstr = line[0] + \";\" +str(line[1])\n",
    "        f.write(f\"{monstr}\\n\")"
   ]
  },
  {
   "cell_type": "code",
   "execution_count": null,
   "metadata": {},
   "outputs": [],
   "source": []
  },
  {
   "cell_type": "code",
   "execution_count": null,
   "metadata": {},
   "outputs": [],
   "source": []
  }
 ],
 "metadata": {
  "kernelspec": {
   "display_name": "Python 3",
   "language": "python",
   "name": "python3"
  },
  "language_info": {
   "codemirror_mode": {
    "name": "ipython",
    "version": 3
   },
   "file_extension": ".py",
   "mimetype": "text/x-python",
   "name": "python",
   "nbconvert_exporter": "python",
   "pygments_lexer": "ipython3",
   "version": "3.9.16"
  }
 },
 "nbformat": 4,
 "nbformat_minor": 2
}
