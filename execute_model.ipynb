{
 "cells": [
  {
   "attachments": {},
   "cell_type": "markdown",
   "metadata": {},
   "source": [
    "## Goal\n",
    "The goal of this notebook is to produce classifiction and to return the Class Activation Maps (CAMs) of an image."
   ]
  },
  {
   "cell_type": "markdown",
   "metadata": {},
   "source": [
    "## Import Libraries"
   ]
  },
  {
   "cell_type": "code",
   "execution_count": 1,
   "metadata": {},
   "outputs": [],
   "source": [
    "# Standard libraries\n",
    "import os\n",
    "import glob\n",
    "# Local libraries\n",
    "from utils.image_processor import ImageProcessor"
   ]
  },
  {
   "attachments": {},
   "cell_type": "markdown",
   "metadata": {},
   "source": [
    "## Defining global variables"
   ]
  },
  {
   "attachments": {},
   "cell_type": "markdown",
   "metadata": {},
   "source": [
    "#### No need to change anything here"
   ]
  },
  {
   "cell_type": "code",
   "execution_count": 2,
   "metadata": {},
   "outputs": [],
   "source": [
    "# Categories\n",
    "CATS = [\"suspicius_site\"]\n",
    "# Weights path and architecture\n",
    "STATE_DICT_PATH = \"weights/checkpoint.pth\"\n",
    "model = 'architecture.resnet50_fpn'\n",
    "# Create image processor\n",
    "ip = ImageProcessor(CATS, STATE_DICT_PATH, model=model)"
   ]
  },
  {
   "attachments": {},
   "cell_type": "markdown",
   "metadata": {},
   "source": [
    "#### Change according to where your dataset is"
   ]
  },
  {
   "cell_type": "code",
   "execution_count": 3,
   "metadata": {},
   "outputs": [],
   "source": [
    "path_img = \"test_img/test_image_google1.png\" # Load an image to test the model on\n",
    "path_dataset = \"Path/To/Your/Dataset\" # Path to your dataset\n",
    "path_save = \"Path/To/Store/Results\" # Path to where you want to store the results of the predictions"
   ]
  },
  {
   "cell_type": "markdown",
   "metadata": {},
   "source": [
    "## CAMs"
   ]
  },
  {
   "cell_type": "code",
   "execution_count": null,
   "metadata": {
    "scrolled": false
   },
   "outputs": [],
   "source": [
    "# Test on one image to ensure that everything is set up correctly\n",
    "iw = ip.execute_cams_pred(path_img)\n",
    "print(iw.classification_scores, iw.predicted_categories)\n",
    "iw.show_global_cams()\n",
    "figure = iw.return_global_cams()\n",
    "figure.savefig(\"test.jpg\")"
   ]
  },
  {
   "attachments": {},
   "cell_type": "markdown",
   "metadata": {},
   "source": [
    "# Predictions for the whole dataset"
   ]
  },
  {
   "cell_type": "code",
   "execution_count": null,
   "metadata": {},
   "outputs": [],
   "source": [
    "i = 0\n",
    "paths = glob.glob(path_dataset)\n",
    "landfill = []\n",
    "n = len(paths)\n",
    "tenpercent = int(0.1*n)\n",
    "print(\"C'est parti pour : \"+str(n)+\" images.\")\n",
    "for path in paths:\n",
    "    iw = ip.execute_cams_pred(path)\n",
    "    score = iw.classification_scores\n",
    "    if score > 0.70:\n",
    "        landfill.append([path,score])\n",
    "        figure = iw.return_global_cams()\n",
    "        # print(iw.classification_scores, iw.predicted_categories)\n",
    "        # iw.show_global_cams()\n",
    "        figure.savefig(path_save+\"/pred_\"+os.path.basename(path))\n",
    "    i += 1\n",
    "    if i % tenpercent == 0:\n",
    "        print(str(round(i/n,2))+\" percent complete\")\n",
    "    # if i >= 2:\n",
    "    #     break\n",
    "\n",
    "with open(path_save+\"/landfill.txt\", 'w') as f:\n",
    "    for line in landfill:\n",
    "        monstr = line[0] + \";\" +str(line[1])\n",
    "        f.write(f\"{monstr}\\n\")"
   ]
  }
 ],
 "metadata": {
  "kernelspec": {
   "display_name": "Python 3",
   "language": "python",
   "name": "python3"
  },
  "language_info": {
   "codemirror_mode": {
    "name": "ipython",
    "version": 3
   },
   "file_extension": ".py",
   "mimetype": "text/x-python",
   "name": "python",
   "nbconvert_exporter": "python",
   "pygments_lexer": "ipython3",
   "version": "3.8.16"
  }
 },
 "nbformat": 4,
 "nbformat_minor": 2
}
